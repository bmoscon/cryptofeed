{
 "cells": [
  {
   "cell_type": "code",
   "execution_count": null,
   "metadata": {},
   "outputs": [],
   "source": [
    "from cryptofeed.rest import Rest\n",
    "rest = Rest(sandbox=True)"
   ]
  },
  {
   "cell_type": "code",
   "execution_count": null,
   "metadata": {},
   "outputs": [],
   "source": [
    "gdax = rest.gdax"
   ]
  },
  {
   "cell_type": "code",
   "execution_count": null,
   "metadata": {},
   "outputs": [],
   "source": [
    "fills = gdax.fills('BTC-USD')\n",
    "fills\n"
   ]
  },
  {
   "cell_type": "code",
   "execution_count": null,
   "metadata": {},
   "outputs": [],
   "source": [
    "orders = gdax.get_orders({'status': ['pending']})\n",
    "orders"
   ]
  },
  {
   "cell_type": "code",
   "execution_count": null,
   "metadata": {},
   "outputs": [],
   "source": [
    "trades = gdax.execute_trades([{\"size\": \"0.01\", \"price\": \"0.100\", \"side\": \"buy\", \"product_id\": \"BTC-USD\"}])"
   ]
  },
  {
   "cell_type": "code",
   "execution_count": null,
   "metadata": {},
   "outputs": [],
   "source": [
    "gdax.get_accounts()"
   ]
  },
  {
   "cell_type": "code",
   "execution_count": null,
   "metadata": {},
   "outputs": [],
   "source": [
    "gdax.get_account('2c9f0fd4-68e6-4c22-af8f-20779382e4d1')"
   ]
  },
  {
   "cell_type": "code",
   "execution_count": null,
   "metadata": {},
   "outputs": [],
   "source": [
    "gdax.get_account_history('2c9f0fd4-68e6-4c22-af8f-20779382e4d1')"
   ]
  },
  {
   "cell_type": "code",
   "execution_count": null,
   "metadata": {},
   "outputs": [],
   "source": [
    "gdax.get_holds('2c9f0fd4-68e6-4c22-af8f-20779382e4d1')"
   ]
  },
  {
   "cell_type": "code",
   "execution_count": null,
   "metadata": {},
   "outputs": [],
   "source": [
    "gdax.list_payment_methods()"
   ]
  },
  {
   "cell_type": "code",
   "execution_count": null,
   "metadata": {},
   "outputs": [],
   "source": [
    "gdax.list_coinbase_accounts()"
   ]
  },
  {
   "cell_type": "code",
   "execution_count": null,
   "metadata": {},
   "outputs": [],
   "source": [
    "deposit = {\n",
    "    \"amount\": 10.00,\n",
    "    \"currency\": \"GBP\",\n",
    "    \"payment_method_id\": \"b22911ee-ef35-5c97-bdd4-aef3f65618d9\"\n",
    "}\n",
    "\n",
    "gdax.deposit_funds(deposit)"
   ]
  },
  {
   "cell_type": "code",
   "execution_count": null,
   "metadata": {},
   "outputs": [],
   "source": [
    "withdrawal = {\n",
    "    \"amount\": 10.00,\n",
    "    \"currency\": \"GBP\",\n",
    "    \"payment_method_id\": \"b22911ee-ef35-5c97-bdd4-aef3f65618d9\"\n",
    "}\n",
    "\n",
    "gdax.withdrawal_funds(withdrawal)"
   ]
  },
  {
   "cell_type": "code",
   "execution_count": null,
   "metadata": {},
   "outputs": [],
   "source": [
    "deposit = {\n",
    "    \"amount\": 10.00,\n",
    "    \"currency\": \"BTC\",\n",
    "    \"coinbase_account_id\": '95671473-4dda-5264-a654-fc6923e8a334',\n",
    "}\n",
    "\n",
    "gdax.deposit_coinbase(deposit)"
   ]
  },
  {
   "cell_type": "code",
   "execution_count": null,
   "metadata": {},
   "outputs": [],
   "source": [
    "withdrawal = {\n",
    "    \"amount\": 10.00,\n",
    "    \"currency\": \"BTC\",\n",
    "    \"coinbase_account_id\": '95671473-4dda-5264-a654-fc6923e8a334',\n",
    "}\n",
    "\n",
    "gdax.withdrawal_coinbase(withdrawal)"
   ]
  },
  {
   "cell_type": "code",
   "execution_count": null,
   "metadata": {},
   "outputs": [],
   "source": []
  }
 ],
 "metadata": {
  "kernelspec": {
   "display_name": "Python 3",
   "language": "python",
   "name": "python3"
  },
  "language_info": {
   "codemirror_mode": {
    "name": "ipython",
    "version": 3
   },
   "file_extension": ".py",
   "mimetype": "text/x-python",
   "name": "python",
   "nbconvert_exporter": "python",
   "pygments_lexer": "ipython3",
   "version": "3.6.6"
  }
 },
 "nbformat": 4,
 "nbformat_minor": 2
}
